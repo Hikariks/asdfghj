{
 "cells": [
  {
   "cell_type": "markdown",
   "metadata": {},
   "source": [
    "# Number"
   ]
  },
  {
   "cell_type": "markdown",
   "metadata": {},
   "source": [
    "1. Define a number with a value of one billion in 3 ways."
   ]
  },
  {
   "cell_type": "code",
   "execution_count": 1,
   "metadata": {},
   "outputs": [],
   "source": [
    "let billon1 = 1000000000;\n",
    "let billon2 = 1_000_000_000;\n",
    "let billon3 = 1e9"
   ]
  },
  {
   "cell_type": "markdown",
   "metadata": {},
   "source": [
    "2. Convert 100(10) to binary number."
   ]
  },
  {
   "cell_type": "code",
   "execution_count": 6,
   "metadata": {},
   "outputs": [
    {
     "data": {
      "text/plain": [
       "\u001b[33m1100100\u001b[39m"
      ]
     },
     "execution_count": 6,
     "metadata": {},
     "output_type": "execute_result"
    }
   ],
   "source": [
    "let n2 = 100\n",
    "n2 = +n2.toString(2)"
   ]
  },
  {
   "cell_type": "markdown",
   "metadata": {},
   "source": [
    "3. Round up, round down, and round to the nearest whole number for `3.1`."
   ]
  },
  {
   "cell_type": "code",
   "execution_count": null,
   "metadata": {},
   "outputs": [],
   "source": [
    "console.log(Math.ceil(3.1));\n",
    "console.log(Math.floor(3.1));\n",
    "console.log(Math.round(3.1));\n",
    "\n",
    "\n"
   ]
  },
  {
   "cell_type": "markdown",
   "metadata": {},
   "source": [
    "4. Round `12.34` and `12.35` to 1 decimal place."
   ]
  },
  {
   "cell_type": "code",
   "execution_count": null,
   "metadata": {},
   "outputs": [],
   "source": [
    "console.log(12.34.toFixed(1));\n",
    "console.log(12.35.toFixed(1));\n",
    "\n"
   ]
  },
  {
   "cell_type": "markdown",
   "metadata": {},
   "source": [
    "# String"
   ]
  },
  {
   "cell_type": "markdown",
   "metadata": {},
   "source": [
    "5. Print the length of `text5`."
   ]
  },
  {
   "cell_type": "code",
   "execution_count": 7,
   "metadata": {},
   "outputs": [
    {
     "data": {
      "text/plain": [
       "\u001b[33m3\u001b[39m"
      ]
     },
     "execution_count": 7,
     "metadata": {},
     "output_type": "execute_result"
    }
   ],
   "source": [
    "let text5 = `My\\n`\n",
    "text5.length\n"
   ]
  },
  {
   "cell_type": "markdown",
   "metadata": {},
   "source": [
    "6. Print the last letter of `text6` in 2 ways."
   ]
  },
  {
   "cell_type": "code",
   "execution_count": 8,
   "metadata": {},
   "outputs": [
    {
     "name": "stdout",
     "output_type": "stream",
     "text": [
      "o\n",
      "o\n"
     ]
    }
   ],
   "source": [
    "let text6 = 'Hello'\n",
    "console.log(text6[text6.length-1]);\n",
    "console.log(text6.at(-1));\n"
   ]
  },
  {
   "cell_type": "markdown",
   "metadata": {},
   "source": [
    "7. Change the first letter to uppercase."
   ]
  },
  {
   "cell_type": "code",
   "execution_count": 10,
   "metadata": {},
   "outputs": [
    {
     "data": {
      "text/plain": [
       "\u001b[32m\"Hi\"\u001b[39m"
      ]
     },
     "execution_count": 10,
     "metadata": {},
     "output_type": "execute_result"
    }
   ],
   "source": [
    "let text7 = 'hi'\n",
    "text7 = text7[0].toUpperCase() + text7.slice(1)"
   ]
  },
  {
   "cell_type": "markdown",
   "metadata": {},
   "source": [
    "# Array"
   ]
  },
  {
   "cell_type": "markdown",
   "metadata": {},
   "source": [
    "8. Write the output by comments."
   ]
  },
  {
   "cell_type": "code",
   "execution_count": 11,
   "metadata": {},
   "outputs": [
    {
     "name": "stdout",
     "output_type": "stream",
     "text": [
      "[ 1, 2 ]\n",
      "[ 1, 2, 4 ]\n",
      "[ 2, 4 ]\n",
      "[ 5, 2, 4 ]\n"
     ]
    }
   ],
   "source": [
    "let arr8 = [1, 2, 3]\n",
    "\n",
    "arr8.pop()\n",
    "console.log(arr8) //[1,2]\n",
    "\n",
    "arr8.push(4)\n",
    "console.log(arr8) //[1,2,4]\n",
    "\n",
    "arr8.shift()\n",
    "console.log(arr8) //[2,4]\n",
    "\n",
    "arr8.unshift(5)\n",
    "console.log(arr8) //[5,2,4]"
   ]
  },
  {
   "cell_type": "markdown",
   "metadata": {},
   "source": [
    "9. Iterate the array in 2 ways."
   ]
  },
  {
   "cell_type": "code",
   "execution_count": 21,
   "metadata": {},
   "outputs": [
    {
     "name": "stdout",
     "output_type": "stream",
     "text": [
      "0\n",
      "1\n",
      "2\n",
      "3\n",
      "4\n",
      "1\n",
      "2\n",
      "3\n",
      "4\n",
      "5\n"
     ]
    }
   ],
   "source": [
    "let arr9 = [1, 2, 3, 4, 5]\n",
    "for(let i=0; i<arr9.length; i++){\n",
    "    console.log(i);\n",
    "}\n",
    "for(let n of arr9){\n",
    "    console.log(n);\n",
    "    \n",
    "}"
   ]
  },
  {
   "cell_type": "markdown",
   "metadata": {},
   "source": [
    "10. Replace the first 3 elements with `0` and `1` using `splice`."
   ]
  },
  {
   "cell_type": "code",
   "execution_count": null,
   "metadata": {},
   "outputs": [],
   "source": [
    "let arr10 = [1, 2, 3, 4, 5]\n",
    "arr10.splice(0,3,0,1)\n",
    "console.log(arr10);\n"
   ]
  },
  {
   "cell_type": "markdown",
   "metadata": {},
   "source": [
    "11. Get a sub array of the first 3 elements in `arr11` using `slice`."
   ]
  },
  {
   "cell_type": "code",
   "execution_count": null,
   "metadata": {},
   "outputs": [],
   "source": [
    "let arr11 = [1, 2, 3, 4, 5]\n",
    "console.log(arr11.slice(0,3));\n"
   ]
  },
  {
   "cell_type": "markdown",
   "metadata": {},
   "source": [
    "12. Merge `arr12a` and `arr12b` using `concat`."
   ]
  },
  {
   "cell_type": "code",
   "execution_count": null,
   "metadata": {},
   "outputs": [],
   "source": [
    "let arr12a = [1, 2, 3, 4, 5]\n",
    "let arr12b = [0, 1, 2, 3, 4]\n",
    "let arr12c = arr12a.concat(arr12b)"
   ]
  },
  {
   "cell_type": "markdown",
   "metadata": {},
   "source": [
    "13. Print each element in `arr13` using `forEach`."
   ]
  },
  {
   "cell_type": "code",
   "execution_count": 13,
   "metadata": {},
   "outputs": [
    {
     "name": "stdout",
     "output_type": "stream",
     "text": [
      "1\n",
      "2\n",
      "3\n",
      "4\n",
      "5\n"
     ]
    }
   ],
   "source": [
    "let arr13 = [1, 2, 3, 4, 5]\n",
    "arr13.forEach(a => console.log(a));"
   ]
  },
  {
   "cell_type": "code",
   "execution_count": null,
   "metadata": {},
   "outputs": [],
   "source": []
  },
  {
   "cell_type": "markdown",
   "metadata": {},
   "source": [
    "14. Double all numbers in `arr14` using `map`."
   ]
  },
  {
   "cell_type": "code",
   "execution_count": 15,
   "metadata": {},
   "outputs": [
    {
     "name": "stdout",
     "output_type": "stream",
     "text": [
      "[ 2, 4, 6, 8, 10 ]\n"
     ]
    }
   ],
   "source": [
    "let arr14 = [1, 2, 3, 4, 5]\n",
    "let arr14a = arr14.map(a => 2*a)\n",
    "console.log(arr14a);\n"
   ]
  },
  {
   "cell_type": "markdown",
   "metadata": {},
   "source": [
    "15. Split name in the string and save to an array using `split`."
   ]
  },
  {
   "cell_type": "code",
   "execution_count": 16,
   "metadata": {},
   "outputs": [
    {
     "name": "stdout",
     "output_type": "stream",
     "text": [
      "[ \"Bilbo\", \"Gandalf\", \"Nazgul\" ]\n"
     ]
    }
   ],
   "source": [
    "let names15 = 'Bilbo, Gandalf, Nazgul'\n",
    "console.log(names15.split(', '));\n"
   ]
  },
  {
   "cell_type": "markdown",
   "metadata": {},
   "source": [
    "16. Join the names in `arr16` with `,` using `join`."
   ]
  },
  {
   "cell_type": "code",
   "execution_count": 17,
   "metadata": {},
   "outputs": [
    {
     "name": "stdout",
     "output_type": "stream",
     "text": [
      "Bilbo,Gandalf,Nazgul\n"
     ]
    }
   ],
   "source": [
    "let arr16 = ['Bilbo', 'Gandalf', 'Nazgul']\n",
    "console.log(arr16.join(','));\n"
   ]
  },
  {
   "cell_type": "markdown",
   "metadata": {},
   "source": [
    "17. How to determine whether a variable is an array?"
   ]
  },
  {
   "cell_type": "code",
   "execution_count": 20,
   "metadata": {},
   "outputs": [
    {
     "name": "stdout",
     "output_type": "stream",
     "text": [
      "false\n"
     ]
    }
   ],
   "source": [
    "console.log(Array.isArray());\n"
   ]
  },
  {
   "cell_type": "markdown",
   "metadata": {},
   "source": [
    "# Object"
   ]
  },
  {
   "cell_type": "markdown",
   "metadata": {},
   "source": [
    "18. Print keys, values and key-value pairs of `obj18`."
   ]
  },
  {
   "cell_type": "code",
   "execution_count": 19,
   "metadata": {},
   "outputs": [
    {
     "name": "stdout",
     "output_type": "stream",
     "text": [
      "[ \"name\", \"age\" ] [ \"John\", 30 ]\n"
     ]
    }
   ],
   "source": [
    "let obj18 = {\n",
    "  name: \"John\",\n",
    "  age: 30\n",
    "}\n",
    "\n",
    "console.log(Object.keys(obj18),Object.values(obj18));\n"
   ]
  },
  {
   "cell_type": "markdown",
   "metadata": {},
   "source": [
    "# Destructuring Assignment"
   ]
  },
  {
   "cell_type": "markdown",
   "metadata": {},
   "source": [
    "19. Swap 2 numbers by destructuring assignment."
   ]
  },
  {
   "cell_type": "code",
   "execution_count": null,
   "metadata": {},
   "outputs": [],
   "source": [
    "let n19a = 1, n19b = 2;\n",
    "[n19a,n19b] = [n19b,n19a]"
   ]
  },
  {
   "cell_type": "markdown",
   "metadata": {},
   "source": [
    "20. Extract properties from an object as separate variables."
   ]
  },
  {
   "cell_type": "code",
   "execution_count": 22,
   "metadata": {},
   "outputs": [
    {
     "ename": "TypeError",
     "evalue": "obj20 is not iterable",
     "output_type": "error",
     "traceback": [
      "Stack trace:",
      "TypeError: obj20 is not iterable",
      "    at <anonymous>:6:36"
     ]
    }
   ],
   "source": [
    "let obj20 = {\n",
    "  title: \"Menu\",\n",
    "  width: 100,\n",
    "  height: 200\n",
    "}\n",
    "let [title20, width20, height20] = obj20;\n",
    "console.log(title20,width20,height20);\n"
   ]
  },
  {
   "cell_type": "markdown",
   "metadata": {},
   "source": [
    "# JSON"
   ]
  },
  {
   "cell_type": "markdown",
   "metadata": {},
   "source": [
    "21. Convert `obj21` into JSON."
   ]
  },
  {
   "cell_type": "code",
   "execution_count": null,
   "metadata": {},
   "outputs": [],
   "source": [
    "let obj21 = {\n",
    "  title: \"Conference\",\n",
    "  room: {\n",
    "    number: 23,\n",
    "    participants: [\"john\", \"ann\"]}\n",
    "}\n",
    "console.log(JSON.stringify(obj21));\n"
   ]
  },
  {
   "cell_type": "markdown",
   "metadata": {},
   "source": [
    "22. Convert `data22` back into an object."
   ]
  },
  {
   "cell_type": "code",
   "execution_count": null,
   "metadata": {},
   "outputs": [],
   "source": [
    "let data22 = '{ \"name\": \"John\", \"age\": 35, \"isAdmin\": false, \"friends\": [0,1,2,3] }'\n",
    "console.log(JSON.parse(data22));\n"
   ]
  }
 ],
 "metadata": {
  "kernelspec": {
   "display_name": "Deno",
   "language": "typescript",
   "name": "deno"
  },
  "language_info": {
   "file_extension": ".ts",
   "mimetype": "text/x.typescript",
   "name": "typescript",
   "nb_converter": "script",
   "pygments_lexer": "typescript",
   "version": "5.3.3"
  }
 },
 "nbformat": 4,
 "nbformat_minor": 2
}
