{
 "cells": [
  {
   "cell_type": "markdown",
   "metadata": {},
   "source": [
    "1. Determine the types of each variable."
   ]
  },
  {
   "cell_type": "code",
   "execution_count": null,
   "metadata": {},
   "outputs": [],
   "source": [
    "let a = NaN //number \n",
    "let b = null //null\n",
    "let c = undefined //undefined\n",
    "let d = console.log // function object"
   ]
  },
  {
   "cell_type": "markdown",
   "metadata": {},
   "source": [
    "2. Write the output of each `console.log` by comments."
   ]
  },
  {
   "cell_type": "markdown",
   "metadata": {},
   "source": []
  },
  {
   "cell_type": "code",
   "execution_count": 1,
   "metadata": {},
   "outputs": [
    {
     "name": "stdout",
     "output_type": "stream",
     "text": [
      "hello 1\n",
      "hello nickname\n",
      "hello Ilya\n"
     ]
    }
   ],
   "source": [
    "let nickname = \"Ilya\";\n",
    "console.log(`hello ${1}`); // hello 1\n",
    "console.log(`hello ${\"nickname\"}`); // hello nickname\n",
    "console.log(`hello ${nickname}`); // hello Ilya"
   ]
  },
  {
   "cell_type": "markdown",
   "metadata": {},
   "source": [
    "3. Write the output of each `console.log` by comments."
   ]
  },
  {
   "cell_type": "code",
   "execution_count": 2,
   "metadata": {},
   "outputs": [
    {
     "name": "stdout",
     "output_type": "stream",
     "text": [
      "53\n",
      "2\n",
      "10\n",
      "2.5\n"
     ]
    }
   ],
   "source": [
    "console.log('5' + 3);  // 53\n",
    "console.log('5' - 3);  // 2\n",
    "console.log('5' * '2');  // 10\n",
    "console.log('5' / '2');  // 2.5"
   ]
  },
  {
   "cell_type": "markdown",
   "metadata": {},
   "source": [
    "4. Write the output of each `console.log` by comments."
   ]
  },
  {
   "cell_type": "code",
   "execution_count": 13,
   "metadata": {},
   "outputs": [
    {
     "name": "stdout",
     "output_type": "stream",
     "text": [
      "false\n",
      "true\n",
      "false\n"
     ]
    }
   ],
   "source": [
    "console.log(true && false); //false\n",
    "console.log(true || false); //true\n",
    "console.log(!true); //false"
   ]
  },
  {
   "cell_type": "markdown",
   "metadata": {},
   "source": [
    "5."
   ]
  },
  {
   "cell_type": "code",
   "execution_count": null,
   "metadata": {},
   "outputs": [],
   "source": [
    "console.log(false);\n",
    "console.log(0);\n",
    "console.log('');"
   ]
  },
  {
   "cell_type": "markdown",
   "metadata": {},
   "source": [
    "6. Write the output of each `console.log` by comments."
   ]
  },
  {
   "cell_type": "code",
   "execution_count": 14,
   "metadata": {},
   "outputs": [
    {
     "name": "stdout",
     "output_type": "stream",
     "text": [
      "true\n",
      "false\n",
      "true\n"
     ]
    }
   ],
   "source": [
    "console.log(true == 1) //true\n",
    "console.log(true === 1) //false \n",
    "console.log(Number(true) === 1) //true"
   ]
  },
  {
   "cell_type": "markdown",
   "metadata": {},
   "source": [
    "7. Simplify code with conditional operator `?`."
   ]
  },
  {
   "cell_type": "code",
   "execution_count": 15,
   "metadata": {},
   "outputs": [
    {
     "data": {
      "text/plain": [
       "\u001b[32m\"Greetings\"\u001b[39m"
      ]
     },
     "execution_count": 15,
     "metadata": {},
     "output_type": "execute_result"
    }
   ],
   "source": [
    "let age = 18, message = ''\n",
    "\n",
    "// if (age < 3) {\n",
    "//   message = 'Hi, baby!';\n",
    "// } else if (age < 18) {\n",
    "//   message = 'Hello!';\n",
    "// } else if (age < 100) {\n",
    "//   message = 'Greetings!';\n",
    "// } else {\n",
    "//   message = 'What an unusual age!';\n",
    "// }\n",
    "\n",
    "message = (age < 3)? 'Hi baby' :\n",
    "  (age < 18)? 'Hello':\n",
    "  (age < 100)? 'Greetings':\n",
    "  'What a unusual age'"
   ]
  },
  {
   "cell_type": "markdown",
   "metadata": {},
   "source": [
    "8. Simplify code with nullish coalescing operator `??`."
   ]
  },
  {
   "cell_type": "code",
   "execution_count": null,
   "metadata": {},
   "outputs": [],
   "source": [
    "// let result = (a !== null && a !== undefined) ? a : b;\n",
    "\n",
    "let result = a ?? b "
   ]
  },
  {
   "cell_type": "markdown",
   "metadata": {},
   "source": [
    "9. Change the way of declaration of callback functions with arrow function."
   ]
  },
  {
   "cell_type": "code",
   "execution_count": 49,
   "metadata": {},
   "outputs": [
    {
     "name": "stdout",
     "output_type": "stream",
     "text": [
      "You canceld the execution\n"
     ]
    }
   ],
   "source": [
    "function ask(question, yes, no) {\n",
    "  if (confirm(question)) yes()\n",
    "  else no();\n",
    "}\n",
    "\n",
    "// function showOk() {\n",
    "//   alert( \"You agreed.\" );\n",
    "// }\n",
    "\n",
    "// function showCancel() {\n",
    "//   alert( \"You canceled the execution.\" );\n",
    "// }\n",
    "\n",
    "// // usage: functions showOk, showCancel are passed as arguments to ask\n",
    "ask(\"Do you agree?\", () => console.log('You agreed'), () => console.log('You canceld the execution'));\n",
    "\n",
    "\n",
    "\n",
    "\n",
    "\n"
   ]
  },
  {
   "cell_type": "markdown",
   "metadata": {},
   "source": [
    "10. Write an arrow function to calculate the sum of 2 numbers."
   ]
  },
  {
   "cell_type": "code",
   "execution_count": 57,
   "metadata": {},
   "outputs": [
    {
     "name": "stdout",
     "output_type": "stream",
     "text": [
      "5\n"
     ]
    }
   ],
   "source": [
    "let sum = (a ,b) => {\n",
    "    return a + b\n",
    "}\n",
    "\n",
    "console.log(sum(2,3));\n"
   ]
  }
 ],
 "metadata": {
  "kernelspec": {
   "display_name": "Deno",
   "language": "typescript",
   "name": "deno"
  },
  "language_info": {
   "file_extension": ".ts",
   "mimetype": "text/x.typescript",
   "name": "typescript",
   "nb_converter": "script",
   "pygments_lexer": "typescript",
   "version": "5.3.3"
  }
 },
 "nbformat": 4,
 "nbformat_minor": 2
}
