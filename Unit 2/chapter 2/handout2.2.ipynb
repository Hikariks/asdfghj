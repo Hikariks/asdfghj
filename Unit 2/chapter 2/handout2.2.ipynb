{
 "cells": [
  {
   "cell_type": "markdown",
   "metadata": {},
   "source": [
    "1. Create an object in 2 ways."
   ]
  },
  {
   "cell_type": "code",
   "execution_count": null,
   "metadata": {},
   "outputs": [],
   "source": [
    "let obj = {};\n",
    "let obj1 = new Object()"
   ]
  },
  {
   "cell_type": "markdown",
   "metadata": {},
   "source": [
    "2. Print properties of an object."
   ]
  },
  {
   "cell_type": "code",
   "execution_count": 2,
   "metadata": {},
   "outputs": [
    {
     "name": "stdout",
     "output_type": "stream",
     "text": [
      "100\n",
      "160\n",
      "130\n",
      "10000\n",
      "10\n"
     ]
    }
   ],
   "source": [
    "let od = 'Lee'\n",
    "\n",
    "let salaries = {\n",
    "  John: 100,\n",
    "  Ann: 160,\n",
    "  Pete: 130,\n",
    "  'Big Boss': 10000,\n",
    "  [od]: 10\n",
    "}\n",
    "console.log(salaries.John);\n",
    "console.log(salaries.Ann);\n",
    "console.log(salaries.Pete);\n",
    "console.log(salaries[\"Big Boss\"]);\n",
    "console.log(salaries[od]);\n",
    "\n",
    "\n"
   ]
  },
  {
   "cell_type": "markdown",
   "metadata": {},
   "source": [
    "3. Write the output by comments."
   ]
  },
  {
   "cell_type": "code",
   "execution_count": 4,
   "metadata": {},
   "outputs": [
    {
     "name": "stdout",
     "output_type": "stream",
     "text": [
      "60\n"
     ]
    }
   ],
   "source": [
    "let user3 = {\n",
    "  name: \"John\",\n",
    "  sizes: {\n",
    "    height: 182,\n",
    "    width: 50\n",
    "  }\n",
    "};\n",
    "\n",
    "let clone = Object.assign({}, user3);\n",
    "\n",
    "user3.sizes.width = 60;\n",
    "console.log(clone.sizes.width); //60"
   ]
  },
  {
   "cell_type": "markdown",
   "metadata": {},
   "source": [
    "4. Write the output by comments."
   ]
  },
  {
   "cell_type": "code",
   "execution_count": 9,
   "metadata": {},
   "outputs": [
    {
     "name": "stdout",
     "output_type": "stream",
     "text": [
      "Ilya\n"
     ]
    }
   ],
   "source": [
    "let user4 = {\n",
    "  firstName: \"Ilya\",\n",
    "  sayHi() {\n",
    "    let arrow = () => {\n",
    "      console.log(this.firstName);\n",
    "    }\n",
    "    arrow();\n",
    "  }\n",
    "};\n",
    "\n",
    "user4.sayHi();"
   ]
  },
  {
   "cell_type": "markdown",
   "metadata": {},
   "source": [
    "5. What is the result of accessing `ref`? Why?"
   ]
  },
  {
   "cell_type": "code",
   "execution_count": 28,
   "metadata": {},
   "outputs": [
    {
     "ename": "TypeError",
     "evalue": "Cannot read properties of undefined (reading 'name')",
     "output_type": "error",
     "traceback": [
      "Stack trace:",
      "TypeError: Cannot read properties of undefined (reading 'name')",
      "    at <anonymous>:8:22"
     ]
    }
   ],
   "source": [
    "function makeUser() {\n",
    "  return {\n",
    "    name: \"John\",\n",
    "    ref: this\n",
    "  };\n",
    "}\n",
    "\n",
    "let user = makeUser();\n",
    "\n",
    "console.log(user.ref.name );//error"
   ]
  },
  {
   "cell_type": "markdown",
   "metadata": {},
   "source": [
    "6. Write the output."
   ]
  },
  {
   "cell_type": "code",
   "execution_count": 31,
   "metadata": {},
   "outputs": [
    {
     "name": "stdout",
     "output_type": "stream",
     "text": [
      "John\n",
      "undefined\n"
     ]
    }
   ],
   "source": [
    "let key = \"firstName\";\n",
    "\n",
    "let user6a = {\n",
    "  firstName: \"John\"\n",
    "};\n",
    "\n",
    "let user6b = null;\n",
    "\n",
    "console.log( user6a?.[key] );//John\n",
    "console.log( user6b?.[key] );//undefined"
   ]
  }
 ],
 "metadata": {
  "kernelspec": {
   "display_name": "Deno",
   "language": "typescript",
   "name": "deno"
  },
  "language_info": {
   "file_extension": ".ts",
   "mimetype": "text/x.typescript",
   "name": "typescript",
   "nb_converter": "script",
   "pygments_lexer": "typescript",
   "version": "5.3.3"
  }
 },
 "nbformat": 4,
 "nbformat_minor": 2
}
